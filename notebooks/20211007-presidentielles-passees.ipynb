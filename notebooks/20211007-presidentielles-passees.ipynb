{
 "cells": [
  {
   "cell_type": "markdown",
   "id": "8ff133b5",
   "metadata": {},
   "source": [
    "# Elections passées\n",
    "\n",
    "Regardons quelques stats sur les élections présidentielles passées."
   ]
  },
  {
   "cell_type": "code",
   "execution_count": 1,
   "id": "2e3862b2",
   "metadata": {},
   "outputs": [],
   "source": [
    "import json\n",
    "\n",
    "import pandas as pd\n",
    "import requests\n",
    "import altair as alt"
   ]
  },
  {
   "cell_type": "code",
   "execution_count": 2,
   "id": "5af4fd30",
   "metadata": {},
   "outputs": [],
   "source": [
    "r = requests.get(\"https://raw.githubusercontent.com/pollsposition/data/main/resultats/presidentielles.json\")\n",
    "results = r.json()"
   ]
  },
  {
   "cell_type": "code",
   "execution_count": 3,
   "id": "df00464b",
   "metadata": {},
   "outputs": [],
   "source": [
    "num_candidates = {year: len(all['candidats']) for year, all in results.items()}"
   ]
  },
  {
   "cell_type": "code",
   "execution_count": 4,
   "id": "56743192",
   "metadata": {},
   "outputs": [],
   "source": [
    "source = pd.DataFrame.from_dict(num_candidates, orient='index').reset_index()\n",
    "source.columns = ['year', 'num_candidates']"
   ]
  },
  {
   "cell_type": "code",
   "execution_count": 22,
   "id": "eeb431fc",
   "metadata": {},
   "outputs": [
    {
     "data": {
      "text/html": [
       "\n",
       "<div id=\"altair-viz-a50e9e90bf894ce99471d0500a66633a\"></div>\n",
       "<script type=\"text/javascript\">\n",
       "  (function(spec, embedOpt){\n",
       "    let outputDiv = document.currentScript.previousElementSibling;\n",
       "    if (outputDiv.id !== \"altair-viz-a50e9e90bf894ce99471d0500a66633a\") {\n",
       "      outputDiv = document.getElementById(\"altair-viz-a50e9e90bf894ce99471d0500a66633a\");\n",
       "    }\n",
       "    const paths = {\n",
       "      \"vega\": \"https://cdn.jsdelivr.net/npm//vega@5?noext\",\n",
       "      \"vega-lib\": \"https://cdn.jsdelivr.net/npm//vega-lib?noext\",\n",
       "      \"vega-lite\": \"https://cdn.jsdelivr.net/npm//vega-lite@4.8.1?noext\",\n",
       "      \"vega-embed\": \"https://cdn.jsdelivr.net/npm//vega-embed@6?noext\",\n",
       "    };\n",
       "\n",
       "    function loadScript(lib) {\n",
       "      return new Promise(function(resolve, reject) {\n",
       "        var s = document.createElement('script');\n",
       "        s.src = paths[lib];\n",
       "        s.async = true;\n",
       "        s.onload = () => resolve(paths[lib]);\n",
       "        s.onerror = () => reject(`Error loading script: ${paths[lib]}`);\n",
       "        document.getElementsByTagName(\"head\")[0].appendChild(s);\n",
       "      });\n",
       "    }\n",
       "\n",
       "    function showError(err) {\n",
       "      outputDiv.innerHTML = `<div class=\"error\" style=\"color:red;\">${err}</div>`;\n",
       "      throw err;\n",
       "    }\n",
       "\n",
       "    function displayChart(vegaEmbed) {\n",
       "      vegaEmbed(outputDiv, spec, embedOpt)\n",
       "        .catch(err => showError(`Javascript Error: ${err.message}<br>This usually means there's a typo in your chart specification. See the javascript console for the full traceback.`));\n",
       "    }\n",
       "\n",
       "    if(typeof define === \"function\" && define.amd) {\n",
       "      requirejs.config({paths});\n",
       "      require([\"vega-embed\"], displayChart, err => showError(`Error loading script: ${err.message}`));\n",
       "    } else if (typeof vegaEmbed === \"function\") {\n",
       "      displayChart(vegaEmbed);\n",
       "    } else {\n",
       "      loadScript(\"vega\")\n",
       "        .then(() => loadScript(\"vega-lite\"))\n",
       "        .then(() => loadScript(\"vega-embed\"))\n",
       "        .catch(showError)\n",
       "        .then(() => displayChart(vegaEmbed));\n",
       "    }\n",
       "  })({\"config\": {\"view\": {\"continuousWidth\": 400, \"continuousHeight\": 300, \"height\": 500, \"stroke\": null, \"width\": 800}, \"facet\": {\"spacing\": 0}}, \"concat\": [{\"layer\": [{\"mark\": \"bar\", \"encoding\": {\"x\": {\"type\": \"nominal\", \"axis\": {\"labelAngle\": -45, \"labelFont\": \"Lato\", \"labelFontSize\": 30, \"labelFontWeight\": \"lighter\", \"ticks\": false, \"title\": null}, \"field\": \"year\"}, \"y\": {\"type\": \"quantitative\", \"axis\": null, \"field\": \"num_candidates\"}}}, {\"mark\": {\"type\": \"text\", \"baseline\": \"middle\", \"color\": \"white\", \"dy\": 25, \"font\": \"Lato\", \"fontSize\": 30, \"fontWeight\": \"bold\"}, \"encoding\": {\"text\": {\"type\": \"quantitative\", \"field\": \"num_candidates\"}, \"x\": {\"type\": \"nominal\", \"axis\": {\"labelAngle\": -45, \"labelFont\": \"Lato\", \"labelFontSize\": 30, \"labelFontWeight\": \"lighter\", \"ticks\": false, \"title\": null}, \"field\": \"year\"}, \"y\": {\"type\": \"quantitative\", \"axis\": null, \"field\": \"num_candidates\"}}}], \"title\": {\"text\": \"@pollsposition\", \"anchor\": \"end\", \"baseline\": \"bottom\", \"color\": \"darkgray\", \"dy\": 20, \"font\": \"Lato\", \"orient\": \"bottom\", \"subtitle\": \"Source: https://github.com/pollsposition/data/\", \"subtitleColor\": \"lightgray\"}}], \"background\": \"#fAfAfA\", \"data\": {\"name\": \"data-648b375bb3a3d8ccb641b6fc689248b9\"}, \"title\": {\"text\": \"Nombre de candidats au premier tour de l'\\u00e9lection pr\\u00e9sidentielle\", \"dy\": -30, \"font\": \"Lato\", \"fontSize\": 19, \"subtitleFontSize\": 12}, \"$schema\": \"https://vega.github.io/schema/vega-lite/v4.8.1.json\", \"datasets\": {\"data-648b375bb3a3d8ccb641b6fc689248b9\": [{\"year\": \"2017\", \"num_candidates\": 11}, {\"year\": \"2012\", \"num_candidates\": 10}, {\"year\": \"2007\", \"num_candidates\": 12}, {\"year\": \"2002\", \"num_candidates\": 16}, {\"year\": \"1995\", \"num_candidates\": 9}, {\"year\": \"1988\", \"num_candidates\": 9}, {\"year\": \"1981\", \"num_candidates\": 10}, {\"year\": \"1974\", \"num_candidates\": 12}, {\"year\": \"1969\", \"num_candidates\": 7}, {\"year\": \"1965\", \"num_candidates\": 6}]}}, {\"mode\": \"vega-lite\"});\n",
       "</script>"
      ],
      "text/plain": [
       "alt.ConcatChart(...)"
      ]
     },
     "execution_count": 22,
     "metadata": {},
     "output_type": "execute_result"
    }
   ],
   "source": [
    "bars = alt.Chart(source).mark_bar().encode(\n",
    "    x=alt.X('year', axis=alt.Axis(labelAngle=-45, title=None, labelFontSize=30, labelFontWeight=\"lighter\", labelFont='Lato', ticks=False)),\n",
    "    y=alt.Y('num_candidates', axis=None),\n",
    ")\n",
    "\n",
    "text = bars.mark_text(\n",
    "    baseline='middle',\n",
    "    dy=+25,  # Nudges text to right so it doesn't appear on top of the bar\n",
    "    font=\"Lato\",\n",
    "    fontWeight='bold',\n",
    "    fontSize=30,\n",
    "    color='white'\n",
    ").encode(\n",
    "    text=alt.Text('num_candidates:Q')\n",
    ")\n",
    "\n",
    "chart = (bars + text).properties(\n",
    "    title=alt.TitleParams(\n",
    "        text=\"@pollsposition\",\n",
    "        font=\"Lato\",\n",
    "        color=\"darkgray\",\n",
    "        subtitle=f\"Source: https://github.com/pollsposition/data/\",\n",
    "        subtitleColor=\"lightgray\",\n",
    "        baseline=\"bottom\",\n",
    "        orient=\"bottom\",\n",
    "        anchor=\"end\",\n",
    "        dy=20,\n",
    "    ),\n",
    ")\n",
    "\n",
    "chart_with_title = (\n",
    "    alt.concat(\n",
    "        chart,\n",
    "        title=alt.TitleParams(\n",
    "            dy=-30,\n",
    "            fontSize=19,\n",
    "            text=\"Nombre de candidats au premier tour de l'élection présidentielle\",\n",
    "            subtitleFontSize=12,\n",
    "            font=\"Lato\",\n",
    "        ),\n",
    "        background=\"#fAfAfA\",\n",
    "    )\n",
    "    .configure_facet(spacing=0)\n",
    "    .configure_view(\n",
    "        stroke=None,\n",
    "        width=800,\n",
    "        height=500,\n",
    "    )\n",
    ")\n",
    "\n",
    "chart_with_title"
   ]
  },
  {
   "cell_type": "code",
   "execution_count": null,
   "id": "f8810b81",
   "metadata": {},
   "outputs": [],
   "source": []
  }
 ],
 "metadata": {
  "kernelspec": {
   "display_name": "2022",
   "language": "python",
   "name": "2022"
  },
  "language_info": {
   "codemirror_mode": {
    "name": "ipython",
    "version": 3
   },
   "file_extension": ".py",
   "mimetype": "text/x-python",
   "name": "python",
   "nbconvert_exporter": "python",
   "pygments_lexer": "ipython3",
   "version": "3.9.5"
  }
 },
 "nbformat": 4,
 "nbformat_minor": 5
}

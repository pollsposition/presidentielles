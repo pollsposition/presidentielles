{
 "cells": [
  {
   "cell_type": "markdown",
   "id": "5a643ca1",
   "metadata": {},
   "source": [
    "# 06/09/2021 - Ipsos Sopra-Steria"
   ]
  },
  {
   "cell_type": "code",
   "execution_count": 1,
   "id": "0da978f9",
   "metadata": {},
   "outputs": [],
   "source": [
    "import numpy as np\n",
    "import requests\n",
    "\n",
    "import altair as alt\n",
    "alt.data_transformers.enable('data_server')\n",
    "\n",
    "from pollsposition.plots import stripplot, comparisonplot, sample_uncertainty\n",
    "\n",
    "\n",
    "%load_ext autoreload\n",
    "%autoreload 2"
   ]
  },
  {
   "cell_type": "code",
   "execution_count": 2,
   "id": "01900c6c",
   "metadata": {},
   "outputs": [],
   "source": [
    "SONDAGE = '20210903_ipsos'"
   ]
  },
  {
   "cell_type": "markdown",
   "id": "5ae13187",
   "metadata": {},
   "source": [
    "## Load the data"
   ]
  },
  {
   "cell_type": "code",
   "execution_count": 3,
   "id": "91afaee9",
   "metadata": {},
   "outputs": [],
   "source": [
    "r = requests.get(\"https://raw.githubusercontent.com/pollsposition/data/main/presidentielles/sondages.json\")\n",
    "polls = r.json()"
   ]
  },
  {
   "cell_type": "code",
   "execution_count": 4,
   "id": "dccf5634",
   "metadata": {},
   "outputs": [],
   "source": [
    "sondage = polls[SONDAGE]\n",
    "num_interroges = sondage['echantillon']\n",
    "hypotheses = sondage['hypotheses']"
   ]
  },
  {
   "cell_type": "markdown",
   "id": "5c7d6057",
   "metadata": {},
   "source": [
    "## Calculer les distributions postérieures"
   ]
  },
  {
   "cell_type": "markdown",
   "id": "b541164b",
   "metadata": {},
   "source": [
    "On choisit d'abord de voir le blanc/nul comme un candidat à part entière, on réajuste donc les pourcentages:"
   ]
  },
  {
   "cell_type": "code",
   "execution_count": 5,
   "id": "6d8232f7",
   "metadata": {},
   "outputs": [],
   "source": [
    "def inclure_non_exprimes(hypothese):\n",
    "    resultats_bruts = hypothese['intentions']\n",
    "    \n",
    "    resultats = {}\n",
    "    resultats['Blancs/Nul'] = 100 - hypothese['intentions_exprimees']\n",
    "    for k,r in resultats_bruts.items():\n",
    "        resultats[k] = hypothese['intentions_exprimees'] / 100 * r\n",
    "        \n",
    "    return resultats"
   ]
  },
  {
   "cell_type": "code",
   "execution_count": 6,
   "id": "11a6e671",
   "metadata": {},
   "outputs": [],
   "source": [
    "subtitle = \"Intentions de vote au premier tour des élections présidentielles 2022\"\n",
    "source = f\"Ipsos-Sopra Steria pour franceinfo, Le Parisien et Aujourd'hui en France (06/09/2021)\"\n",
    "\n",
    "figures = {}\n",
    "for key, name in hypotheses.items():\n",
    "    resultats = inclure_non_exprimes(sondage['premier_tour'][key])\n",
    "    posterior = sample_uncertainty(num_interroges, resultats, samples=1000)\n",
    "    \n",
    "    title = f\"{name}\"\n",
    "    fig = stripplot(posterior, title=title, subtitle=subtitle, source=source, sort=None)\n",
    "    figures[key] = fig"
   ]
  },
  {
   "cell_type": "markdown",
   "id": "e6c4e7ea",
   "metadata": {},
   "source": [
    "We can display the figures individually below:"
   ]
  },
  {
   "cell_type": "code",
   "execution_count": 7,
   "id": "64ed3e7e",
   "metadata": {
    "scrolled": true
   },
   "outputs": [
    {
     "data": {
      "text/html": [
       "\n",
       "<div id=\"altair-viz-f2f6b722c71c4ca180bbc11b55a08f3c\"></div>\n",
       "<script type=\"text/javascript\">\n",
       "  (function(spec, embedOpt){\n",
       "    let outputDiv = document.currentScript.previousElementSibling;\n",
       "    if (outputDiv.id !== \"altair-viz-f2f6b722c71c4ca180bbc11b55a08f3c\") {\n",
       "      outputDiv = document.getElementById(\"altair-viz-f2f6b722c71c4ca180bbc11b55a08f3c\");\n",
       "    }\n",
       "    const paths = {\n",
       "      \"vega\": \"https://cdn.jsdelivr.net/npm//vega@5?noext\",\n",
       "      \"vega-lib\": \"https://cdn.jsdelivr.net/npm//vega-lib?noext\",\n",
       "      \"vega-lite\": \"https://cdn.jsdelivr.net/npm//vega-lite@4.8.1?noext\",\n",
       "      \"vega-embed\": \"https://cdn.jsdelivr.net/npm//vega-embed@6?noext\",\n",
       "    };\n",
       "\n",
       "    function loadScript(lib) {\n",
       "      return new Promise(function(resolve, reject) {\n",
       "        var s = document.createElement('script');\n",
       "        s.src = paths[lib];\n",
       "        s.async = true;\n",
       "        s.onload = () => resolve(paths[lib]);\n",
       "        s.onerror = () => reject(`Error loading script: ${paths[lib]}`);\n",
       "        document.getElementsByTagName(\"head\")[0].appendChild(s);\n",
       "      });\n",
       "    }\n",
       "\n",
       "    function showError(err) {\n",
       "      outputDiv.innerHTML = `<div class=\"error\" style=\"color:red;\">${err}</div>`;\n",
       "      throw err;\n",
       "    }\n",
       "\n",
       "    function displayChart(vegaEmbed) {\n",
       "      vegaEmbed(outputDiv, spec, embedOpt)\n",
       "        .catch(err => showError(`Javascript Error: ${err.message}<br>This usually means there's a typo in your chart specification. See the javascript console for the full traceback.`));\n",
       "    }\n",
       "\n",
       "    if(typeof define === \"function\" && define.amd) {\n",
       "      requirejs.config({paths});\n",
       "      require([\"vega-embed\"], displayChart, err => showError(`Error loading script: ${err.message}`));\n",
       "    } else if (typeof vegaEmbed === \"function\") {\n",
       "      displayChart(vegaEmbed);\n",
       "    } else {\n",
       "      loadScript(\"vega\")\n",
       "        .then(() => loadScript(\"vega-lite\"))\n",
       "        .then(() => loadScript(\"vega-embed\"))\n",
       "        .catch(showError)\n",
       "        .then(() => displayChart(vegaEmbed));\n",
       "    }\n",
       "  })({\"config\": {\"view\": {\"continuousWidth\": 400, \"continuousHeight\": 300, \"height\": 800, \"stroke\": null, \"width\": 500}, \"facet\": {\"spacing\": 0}}, \"concat\": [{\"facet\": {\"row\": {\"type\": \"nominal\", \"field\": \"variable\", \"header\": {\"labelAlign\": \"left\", \"labelAngle\": 0, \"labelFont\": \"Lato\", \"labelFontSize\": 12, \"labelFontWeight\": \"normal\"}, \"sort\": [\"Blancs/Nul\", \"Extr\\u00eame Gauche\", \"Jean-Luc M\\u00e9lenchon\", \"Fabien Roussel\", \"Arnaud Montebourg\", \"Yannick Jadot\", \"Anne Hidalgo\", \"Emmanuel Macron\", \"Xavier Bertrand\", \"Nicolas Dupont-Aignan\", \"Marine Le Pen\", \"\\u00c9ric Zemmour\"], \"title\": null}}, \"spec\": {\"mark\": {\"type\": \"circle\", \"size\": 1}, \"encoding\": {\"color\": {\"type\": \"nominal\", \"field\": \"variable\", \"legend\": null}, \"opacity\": {\"value\": 0.5}, \"x\": {\"type\": \"quantitative\", \"axis\": {\"domain\": false, \"grid\": true, \"labelFont\": \"Lato\", \"labelFontSize\": 12, \"labels\": true, \"ticks\": false}, \"field\": \"value\", \"scale\": {\"domain\": [0, 34]}, \"title\": \"Intentions de votes (en %)\"}, \"y\": {\"type\": \"quantitative\", \"axis\": null, \"field\": \"jitter\", \"scale\": {\"range\": [25, -1.0]}, \"title\": null}}, \"height\": 15, \"transform\": [{\"calculate\": \"sqrt(-2*log(random()))*cos(2*PI*random())\", \"as\": \"jitter\"}]}, \"title\": {\"text\": \"@pollsposition\", \"anchor\": \"end\", \"baseline\": \"bottom\", \"color\": \"darkgray\", \"dy\": 20, \"font\": \"Lato\", \"orient\": \"bottom\", \"subtitle\": \"Source: Ipsos-Sopra Steria pour franceinfo, Le Parisien et Aujourd'hui en France (06/09/2021)\", \"subtitleColor\": \"lightgray\"}}], \"background\": \"#fAfAfA\", \"data\": {\"url\": \"http://localhost:21273/a84f2c281d87cd441cf31bf8a964de33.json\"}, \"title\": {\"text\": \"Xavier Bertrand candidat LR/UDI et \\u00c9ric Zemmour candidat\", \"dy\": -30, \"font\": \"Lato\", \"fontSize\": 19, \"subtitle\": \"Intentions de vote au premier tour des \\u00e9lections pr\\u00e9sidentielles 2022\", \"subtitleFontSize\": 12}, \"$schema\": \"https://vega.github.io/schema/vega-lite/v4.8.1.json\"}, {\"mode\": \"vega-lite\"});\n",
       "</script>"
      ],
      "text/plain": [
       "alt.ConcatChart(...)"
      ]
     },
     "execution_count": 7,
     "metadata": {},
     "output_type": "execute_result"
    }
   ],
   "source": [
    "figures['bertrand_zemmour']"
   ]
  },
  {
   "cell_type": "markdown",
   "id": "2f35e3b1",
   "metadata": {},
   "source": [
    "And save them in bulk:"
   ]
  },
  {
   "cell_type": "code",
   "execution_count": 8,
   "id": "898410a5",
   "metadata": {},
   "outputs": [],
   "source": [
    "for key, fig in figures.items():\n",
    "    fig.save(f\"resultats_distributions_{SONDAGE}_{key}.png\", scale_factor=5.)"
   ]
  },
  {
   "cell_type": "markdown",
   "id": "d7738f20",
   "metadata": {},
   "source": [
    "## Comparer les candidatures Pécresse, Bertrand et Barnier\n",
    "\n",
    "### Si Eric Zemmour n'est pas candidat"
   ]
  },
  {
   "cell_type": "code",
   "execution_count": 9,
   "id": "47acd7d8",
   "metadata": {},
   "outputs": [
    {
     "data": {
      "text/html": [
       "\n",
       "<div id=\"altair-viz-46e6954baa6046df98e4f20d5e99a230\"></div>\n",
       "<script type=\"text/javascript\">\n",
       "  (function(spec, embedOpt){\n",
       "    let outputDiv = document.currentScript.previousElementSibling;\n",
       "    if (outputDiv.id !== \"altair-viz-46e6954baa6046df98e4f20d5e99a230\") {\n",
       "      outputDiv = document.getElementById(\"altair-viz-46e6954baa6046df98e4f20d5e99a230\");\n",
       "    }\n",
       "    const paths = {\n",
       "      \"vega\": \"https://cdn.jsdelivr.net/npm//vega@5?noext\",\n",
       "      \"vega-lib\": \"https://cdn.jsdelivr.net/npm//vega-lib?noext\",\n",
       "      \"vega-lite\": \"https://cdn.jsdelivr.net/npm//vega-lite@4.8.1?noext\",\n",
       "      \"vega-embed\": \"https://cdn.jsdelivr.net/npm//vega-embed@6?noext\",\n",
       "    };\n",
       "\n",
       "    function loadScript(lib) {\n",
       "      return new Promise(function(resolve, reject) {\n",
       "        var s = document.createElement('script');\n",
       "        s.src = paths[lib];\n",
       "        s.async = true;\n",
       "        s.onload = () => resolve(paths[lib]);\n",
       "        s.onerror = () => reject(`Error loading script: ${paths[lib]}`);\n",
       "        document.getElementsByTagName(\"head\")[0].appendChild(s);\n",
       "      });\n",
       "    }\n",
       "\n",
       "    function showError(err) {\n",
       "      outputDiv.innerHTML = `<div class=\"error\" style=\"color:red;\">${err}</div>`;\n",
       "      throw err;\n",
       "    }\n",
       "\n",
       "    function displayChart(vegaEmbed) {\n",
       "      vegaEmbed(outputDiv, spec, embedOpt)\n",
       "        .catch(err => showError(`Javascript Error: ${err.message}<br>This usually means there's a typo in your chart specification. See the javascript console for the full traceback.`));\n",
       "    }\n",
       "\n",
       "    if(typeof define === \"function\" && define.amd) {\n",
       "      requirejs.config({paths});\n",
       "      require([\"vega-embed\"], displayChart, err => showError(`Error loading script: ${err.message}`));\n",
       "    } else if (typeof vegaEmbed === \"function\") {\n",
       "      displayChart(vegaEmbed);\n",
       "    } else {\n",
       "      loadScript(\"vega\")\n",
       "        .then(() => loadScript(\"vega-lite\"))\n",
       "        .then(() => loadScript(\"vega-embed\"))\n",
       "        .catch(showError)\n",
       "        .then(() => displayChart(vegaEmbed));\n",
       "    }\n",
       "  })({\"config\": {\"view\": {\"continuousWidth\": 400, \"continuousHeight\": 300, \"height\": 800, \"stroke\": null, \"width\": 500}, \"facet\": {\"spacing\": 0}}, \"concat\": [{\"facet\": {\"row\": {\"type\": \"nominal\", \"field\": \"variable\", \"header\": {\"labelAlign\": \"left\", \"labelAngle\": 0, \"labelFont\": \"Lato\", \"labelFontSize\": 12, \"labelFontWeight\": \"normal\"}, \"sort\": [\"Xavier Bertrand\", \"Val\\u00e9rie P\\u00e9cresse\", \"Michel Barnier\"], \"title\": null}}, \"spec\": {\"mark\": {\"type\": \"circle\", \"size\": 1}, \"encoding\": {\"color\": {\"type\": \"nominal\", \"field\": \"variable\", \"legend\": null}, \"opacity\": {\"value\": 0.5}, \"x\": {\"type\": \"quantitative\", \"axis\": {\"domain\": false, \"grid\": true, \"labelFont\": \"Lato\", \"labelFontSize\": 12, \"labels\": true, \"ticks\": false}, \"field\": \"value\", \"scale\": {\"domain\": [0, 26]}, \"title\": \"Intentions de votes (en %)\"}, \"y\": {\"type\": \"quantitative\", \"axis\": null, \"field\": \"jitter\", \"scale\": {\"range\": [25, -1.0]}, \"title\": null}}, \"height\": 15, \"transform\": [{\"calculate\": \"sqrt(-2*log(random()))*cos(2*PI*random())\", \"as\": \"jitter\"}]}, \"title\": {\"text\": \"@pollsposition\", \"anchor\": \"end\", \"baseline\": \"bottom\", \"color\": \"darkgray\", \"dy\": 20, \"font\": \"Lato\", \"orient\": \"bottom\", \"subtitle\": \"Source: Ipsos-Sopra Steria pour franceinfo, Le Parisien et Aujourd'hui en France (06/09/2021)\", \"subtitleColor\": \"lightgray\"}}], \"background\": \"#fAfAfA\", \"data\": {\"url\": \"http://localhost:21273/198bb91831cd2fb0d367fad593ffb242.json\"}, \"title\": {\"text\": \"Comparaison des candidats de la droite (sans Zemmour)\", \"dy\": -30, \"font\": \"Lato\", \"fontSize\": 19, \"subtitle\": \"Intentions de vote au premier tour des \\u00e9lections pr\\u00e9sidentielles 2022\", \"subtitleFontSize\": 12}, \"$schema\": \"https://vega.github.io/schema/vega-lite/v4.8.1.json\"}, {\"mode\": \"vega-lite\"});\n",
       "</script>"
      ],
      "text/plain": [
       "alt.ConcatChart(...)"
      ]
     },
     "execution_count": 9,
     "metadata": {},
     "output_type": "execute_result"
    }
   ],
   "source": [
    "resultats_comparaison = {\n",
    "    'Xavier Bertrand': sondage['premier_tour']['bertrand']['intentions']['Xavier Bertrand'],\n",
    "    'Valérie Pécresse': sondage['premier_tour']['pecresse']['intentions']['Valérie Pécresse'],\n",
    "    'Michel Barnier': sondage['premier_tour']['barnier']['intentions']['Michel Barnier'],\n",
    "}\n",
    "posterior = sample_uncertainty(\n",
    "    num_interroges,\n",
    "    resultats_comparaison,\n",
    "    len(sondage['premier_tour']['bertrand']['intentions']), # number of candidates\n",
    "    samples=1000\n",
    ")\n",
    "\n",
    "title=\"Comparaison des candidats de la droite (sans Zemmour)\"\n",
    "plot = stripplot(posterior, title=title, subtitle=subtitle, source=source, sort=None, domain=[0,26])\n",
    "plot.save(f\"comparaison_candidats_droite_{SONDAGE}.png\")\n",
    "plot"
   ]
  },
  {
   "cell_type": "markdown",
   "id": "f21597d8",
   "metadata": {},
   "source": [
    "On calcule (et représente) la probabilité que Pécresse et Barnier fassent un meilleur score que Bertrand:"
   ]
  },
  {
   "cell_type": "code",
   "execution_count": 10,
   "id": "701df3c4",
   "metadata": {},
   "outputs": [
    {
     "name": "stdout",
     "output_type": "stream",
     "text": [
      "Il y a 34.5% de chance que Valérie Pécresse réunisse plus d'intentions de votes.\n"
     ]
    }
   ],
   "source": [
    "p_pecresse_greater = np.sum(posterior['Valérie Pécresse'] > posterior['Xavier Bertrand']) /  1_000\n",
    "print(f\"Il y a {100*p_pecresse_greater:.1f}% de chance que Valérie Pécresse réunisse plus d'intentions de votes.\")"
   ]
  },
  {
   "cell_type": "code",
   "execution_count": 11,
   "id": "5a9a255f",
   "metadata": {},
   "outputs": [
    {
     "data": {
      "image/png": "[encoded data removed]",
      "text/plain": [
       "<Figure size 576x576 with 1 Axes>"
      ]
     },
     "metadata": {
      "needs_background": "light"
     },
     "output_type": "display_data"
    }
   ],
   "source": [
    "import matplotlib.pyplot as plt\n",
    "from matplotlib import colors\n",
    "from matplotlib.patches import Patch\n",
    "import numpy as np\n",
    "\n",
    "# data\n",
    "num_pecresse = int(100*p_pecresse_greater)\n",
    "data = np.array([1] * num_pecresse + (100-num_pecresse) * [0])\n",
    "np.random.shuffle(data)\n",
    "data = data.reshape((10,10))\n",
    "\n",
    "# create discrete colormap\n",
    "cmap = colors.ListedColormap(['red', 'blue'])\n",
    "bounds = [0,0.5,1]\n",
    "norm = colors.BoundaryNorm(bounds, cmap.N)\n",
    "\n",
    "fig, ax = plt.subplots(figsize=(8,8))\n",
    "ax.imshow(data, cmap=cmap, norm=norm)\n",
    "\n",
    "# draw gridlines\n",
    "ax.grid(which='major', axis='both', linestyle='-', color='white', linewidth=2)\n",
    "ax.set_xticks(np.arange(-.5, 10, 1));\n",
    "ax.set_yticks(np.arange(-.5, 10, 1));\n",
    "ax.spines[\"right\"].set_visible(False)\n",
    "ax.spines[\"top\"].set_visible(False)\n",
    "ax.spines[\"bottom\"].set_visible(False)\n",
    "ax.spines[\"left\"].set_visible(False)\n",
    "ax.axes.xaxis.set_ticklabels([])\n",
    "ax.axes.yaxis.set_ticklabels([])\n",
    "for tic in ax.xaxis.get_major_ticks():\n",
    "    tic.tick1line.set_visible(False)\n",
    "for tic in ax.yaxis.get_major_ticks():\n",
    "    tic.tick1line.set_visible(False)\n",
    "\n",
    "# legend\n",
    "legend_elements = [Patch(facecolor='blue', label='Valérie Pecresse'), Patch(facecolor='red', label='Xavier Bertrand')]\n",
    "ax.legend(handles=legend_elements, loc='lower center', bbox_to_anchor=(0.5,-.1), frameon=False)\n",
    "\n",
    "# title\n",
    "plt.title(\"Qui obtient le plus d'intentions de vote ?\", fontsize=20)\n",
    "    \n",
    "plt.show()"
   ]
  },
  {
   "cell_type": "code",
   "execution_count": 12,
   "id": "fcc3cb6a",
   "metadata": {},
   "outputs": [
    {
     "name": "stdout",
     "output_type": "stream",
     "text": [
      "Il y a 3.4% de chance que Michel Barnier réunisse plus d'intentions de votes.\n"
     ]
    }
   ],
   "source": [
    "p_barnier_greater = np.sum(posterior['Michel Barnier'] > posterior['Xavier Bertrand']) /  1_000\n",
    "print(f\"Il y a {100*p_barnier_greater:.1f}% de chance que Michel Barnier réunisse plus d'intentions de votes.\")"
   ]
  },
  {
   "cell_type": "code",
   "execution_count": 13,
   "id": "238dd5e5",
   "metadata": {},
   "outputs": [
    {
     "data": {
      "image/png": "[encoded data removed]",
      "text/plain": [
       "<Figure size 576x576 with 1 Axes>"
      ]
     },
     "metadata": {
      "needs_background": "light"
     },
     "output_type": "display_data"
    }
   ],
   "source": [
    "import matplotlib.pyplot as plt\n",
    "from matplotlib import colors\n",
    "from matplotlib.patches import Patch\n",
    "import numpy as np\n",
    "\n",
    "# data\n",
    "num_barnier = int(100*p_barnier_greater)\n",
    "data = np.array([1] * num_barnier + (100-num_barnier) * [0])\n",
    "np.random.shuffle(data)\n",
    "data = data.reshape((10,10))\n",
    "\n",
    "# create discrete colormap\n",
    "cmap = colors.ListedColormap(['red', 'blue'])\n",
    "bounds = [0,0.5,1]\n",
    "norm = colors.BoundaryNorm(bounds, cmap.N)\n",
    "\n",
    "fig, ax = plt.subplots(figsize=(8,8))\n",
    "ax.imshow(data, cmap=cmap, norm=norm)\n",
    "\n",
    "# draw gridlines\n",
    "ax.grid(which='major', axis='both', linestyle='-', color='white', linewidth=2)\n",
    "ax.set_xticks(np.arange(-.5, 10, 1));\n",
    "ax.set_yticks(np.arange(-.5, 10, 1));\n",
    "ax.spines[\"right\"].set_visible(False)\n",
    "ax.spines[\"top\"].set_visible(False)\n",
    "ax.spines[\"bottom\"].set_visible(False)\n",
    "ax.spines[\"left\"].set_visible(False)\n",
    "ax.axes.xaxis.set_ticklabels([])\n",
    "ax.axes.yaxis.set_ticklabels([])\n",
    "for tic in ax.xaxis.get_major_ticks():\n",
    "    tic.tick1line.set_visible(False)\n",
    "for tic in ax.yaxis.get_major_ticks():\n",
    "    tic.tick1line.set_visible(False)\n",
    "\n",
    "# legend\n",
    "legend_elements = [Patch(facecolor='blue', label='Michel Barnier'), Patch(facecolor='red', label='Xavier Bertrand')]\n",
    "ax.legend(handles=legend_elements, loc='lower center', bbox_to_anchor=(0.5,-.1), frameon=False)\n",
    "\n",
    "# title\n",
    "plt.title(\"Qui obtient le plus d'intentions de vote ?\", fontsize=20)\n",
    "    \n",
    "plt.show()"
   ]
  },
  {
   "cell_type": "markdown",
   "id": "a4eaf960",
   "metadata": {},
   "source": [
    "### Si Zemmour est candidat"
   ]
  },
  {
   "cell_type": "code",
   "execution_count": 14,
   "id": "ccdd3e26",
   "metadata": {},
   "outputs": [
    {
     "data": {
      "text/html": [
       "\n",
       "<div id=\"altair-viz-5db7d76cdbaa4822a86a3bbd4391b39d\"></div>\n",
       "<script type=\"text/javascript\">\n",
       "  (function(spec, embedOpt){\n",
       "    let outputDiv = document.currentScript.previousElementSibling;\n",
       "    if (outputDiv.id !== \"altair-viz-5db7d76cdbaa4822a86a3bbd4391b39d\") {\n",
       "      outputDiv = document.getElementById(\"altair-viz-5db7d76cdbaa4822a86a3bbd4391b39d\");\n",
       "    }\n",
       "    const paths = {\n",
       "      \"vega\": \"https://cdn.jsdelivr.net/npm//vega@5?noext\",\n",
       "      \"vega-lib\": \"https://cdn.jsdelivr.net/npm//vega-lib?noext\",\n",
       "      \"vega-lite\": \"https://cdn.jsdelivr.net/npm//vega-lite@4.8.1?noext\",\n",
       "      \"vega-embed\": \"https://cdn.jsdelivr.net/npm//vega-embed@6?noext\",\n",
       "    };\n",
       "\n",
       "    function loadScript(lib) {\n",
       "      return new Promise(function(resolve, reject) {\n",
       "        var s = document.createElement('script');\n",
       "        s.src = paths[lib];\n",
       "        s.async = true;\n",
       "        s.onload = () => resolve(paths[lib]);\n",
       "        s.onerror = () => reject(`Error loading script: ${paths[lib]}`);\n",
       "        document.getElementsByTagName(\"head\")[0].appendChild(s);\n",
       "      });\n",
       "    }\n",
       "\n",
       "    function showError(err) {\n",
       "      outputDiv.innerHTML = `<div class=\"error\" style=\"color:red;\">${err}</div>`;\n",
       "      throw err;\n",
       "    }\n",
       "\n",
       "    function displayChart(vegaEmbed) {\n",
       "      vegaEmbed(outputDiv, spec, embedOpt)\n",
       "        .catch(err => showError(`Javascript Error: ${err.message}<br>This usually means there's a typo in your chart specification. See the javascript console for the full traceback.`));\n",
       "    }\n",
       "\n",
       "    if(typeof define === \"function\" && define.amd) {\n",
       "      requirejs.config({paths});\n",
       "      require([\"vega-embed\"], displayChart, err => showError(`Error loading script: ${err.message}`));\n",
       "    } else if (typeof vegaEmbed === \"function\") {\n",
       "      displayChart(vegaEmbed);\n",
       "    } else {\n",
       "      loadScript(\"vega\")\n",
       "        .then(() => loadScript(\"vega-lite\"))\n",
       "        .then(() => loadScript(\"vega-embed\"))\n",
       "        .catch(showError)\n",
       "        .then(() => displayChart(vegaEmbed));\n",
       "    }\n",
       "  })({\"config\": {\"view\": {\"continuousWidth\": 400, \"continuousHeight\": 300, \"height\": 800, \"stroke\": null, \"width\": 500}, \"facet\": {\"spacing\": 0}}, \"concat\": [{\"facet\": {\"row\": {\"type\": \"nominal\", \"field\": \"variable\", \"header\": {\"labelAlign\": \"left\", \"labelAngle\": 0, \"labelFont\": \"Lato\", \"labelFontSize\": 12, \"labelFontWeight\": \"normal\"}, \"sort\": [\"Xavier Bertrand\", \"Val\\u00e9rie P\\u00e9cresse\", \"Michel Barnier\"], \"title\": null}}, \"spec\": {\"mark\": {\"type\": \"circle\", \"size\": 1}, \"encoding\": {\"color\": {\"type\": \"nominal\", \"field\": \"variable\", \"legend\": null}, \"opacity\": {\"value\": 0.5}, \"x\": {\"type\": \"quantitative\", \"axis\": {\"domain\": false, \"grid\": true, \"labelFont\": \"Lato\", \"labelFontSize\": 12, \"labels\": true, \"ticks\": false}, \"field\": \"value\", \"scale\": {\"domain\": [0, 26]}, \"title\": \"Intentions de votes (en %)\"}, \"y\": {\"type\": \"quantitative\", \"axis\": null, \"field\": \"jitter\", \"scale\": {\"range\": [25, -1.0]}, \"title\": null}}, \"height\": 15, \"transform\": [{\"calculate\": \"sqrt(-2*log(random()))*cos(2*PI*random())\", \"as\": \"jitter\"}]}, \"title\": {\"text\": \"@pollsposition\", \"anchor\": \"end\", \"baseline\": \"bottom\", \"color\": \"darkgray\", \"dy\": 20, \"font\": \"Lato\", \"orient\": \"bottom\", \"subtitle\": \"Source: Ipsos-Sopra Steria pour franceinfo, Le Parisien et Aujourd'hui en France (06/09/2021)\", \"subtitleColor\": \"lightgray\"}}], \"background\": \"#fAfAfA\", \"data\": {\"url\": \"http://localhost:21273/21f8714d2f9aadcf6fb0040ccd381c0e.json\"}, \"title\": {\"text\": \"Comparaison des candidats de la droite (avec Zemmour)\", \"dy\": -30, \"font\": \"Lato\", \"fontSize\": 19, \"subtitle\": \"Intentions de vote au premier tour des \\u00e9lections pr\\u00e9sidentielles 2022\", \"subtitleFontSize\": 12}, \"$schema\": \"https://vega.github.io/schema/vega-lite/v4.8.1.json\"}, {\"mode\": \"vega-lite\"});\n",
       "</script>"
      ],
      "text/plain": [
       "alt.ConcatChart(...)"
      ]
     },
     "execution_count": 14,
     "metadata": {},
     "output_type": "execute_result"
    }
   ],
   "source": [
    "resultats_comparaison = {\n",
    "    'Xavier Bertrand': sondage['premier_tour']['bertrand_zemmour']['intentions']['Xavier Bertrand'],\n",
    "    'Valérie Pécresse': sondage['premier_tour']['pecresse_zemmour']['intentions']['Valérie Pécresse'],\n",
    "    'Michel Barnier': sondage['premier_tour']['barnier_zemmour']['intentions']['Michel Barnier'],\n",
    "}\n",
    "posterior = sample_uncertainty(\n",
    "    num_interroges,\n",
    "    resultats_comparaison,\n",
    "    len(sondage['premier_tour']['bertrand']['intentions']), # number of candidates\n",
    "    samples=1000\n",
    ")\n",
    "\n",
    "title=\"Comparaison des candidats de la droite (avec Zemmour)\"\n",
    "plot = stripplot(posterior, title=title, subtitle=subtitle, source=source, sort=None, domain=[0,26])\n",
    "plot.save(f\"comparaison_candidats_droite_{SONDAGE}_zemmour.png\")\n",
    "plot"
   ]
  },
  {
   "cell_type": "markdown",
   "id": "ee629796",
   "metadata": {},
   "source": [
    "## Impact de la candidature d'Eric Zemmour\n",
    "\n",
    "Le sondage amène naturellement à comparer les situations avec/sans Eric Zemmour."
   ]
  },
  {
   "cell_type": "code",
   "execution_count": 15,
   "id": "7b095b3d",
   "metadata": {},
   "outputs": [
    {
     "data": {
      "text/html": [
       "\n",
       "<div id=\"altair-viz-29f4d2c5767a45d1b348a89a101be2c3\"></div>\n",
       "<script type=\"text/javascript\">\n",
       "  (function(spec, embedOpt){\n",
       "    let outputDiv = document.currentScript.previousElementSibling;\n",
       "    if (outputDiv.id !== \"altair-viz-29f4d2c5767a45d1b348a89a101be2c3\") {\n",
       "      outputDiv = document.getElementById(\"altair-viz-29f4d2c5767a45d1b348a89a101be2c3\");\n",
       "    }\n",
       "    const paths = {\n",
       "      \"vega\": \"https://cdn.jsdelivr.net/npm//vega@5?noext\",\n",
       "      \"vega-lib\": \"https://cdn.jsdelivr.net/npm//vega-lib?noext\",\n",
       "      \"vega-lite\": \"https://cdn.jsdelivr.net/npm//vega-lite@4.8.1?noext\",\n",
       "      \"vega-embed\": \"https://cdn.jsdelivr.net/npm//vega-embed@6?noext\",\n",
       "    };\n",
       "\n",
       "    function loadScript(lib) {\n",
       "      return new Promise(function(resolve, reject) {\n",
       "        var s = document.createElement('script');\n",
       "        s.src = paths[lib];\n",
       "        s.async = true;\n",
       "        s.onload = () => resolve(paths[lib]);\n",
       "        s.onerror = () => reject(`Error loading script: ${paths[lib]}`);\n",
       "        document.getElementsByTagName(\"head\")[0].appendChild(s);\n",
       "      });\n",
       "    }\n",
       "\n",
       "    function showError(err) {\n",
       "      outputDiv.innerHTML = `<div class=\"error\" style=\"color:red;\">${err}</div>`;\n",
       "      throw err;\n",
       "    }\n",
       "\n",
       "    function displayChart(vegaEmbed) {\n",
       "      vegaEmbed(outputDiv, spec, embedOpt)\n",
       "        .catch(err => showError(`Javascript Error: ${err.message}<br>This usually means there's a typo in your chart specification. See the javascript console for the full traceback.`));\n",
       "    }\n",
       "\n",
       "    if(typeof define === \"function\" && define.amd) {\n",
       "      requirejs.config({paths});\n",
       "      require([\"vega-embed\"], displayChart, err => showError(`Error loading script: ${err.message}`));\n",
       "    } else if (typeof vegaEmbed === \"function\") {\n",
       "      displayChart(vegaEmbed);\n",
       "    } else {\n",
       "      loadScript(\"vega\")\n",
       "        .then(() => loadScript(\"vega-lite\"))\n",
       "        .then(() => loadScript(\"vega-embed\"))\n",
       "        .catch(showError)\n",
       "        .then(() => displayChart(vegaEmbed));\n",
       "    }\n",
       "  })({\"config\": {\"view\": {\"continuousWidth\": 400, \"continuousHeight\": 300, \"strokeWidth\": 0}}, \"concat\": [{\"mark\": {\"type\": \"circle\", \"size\": 130}, \"encoding\": {\"color\": {\"type\": \"nominal\", \"field\": \"index\", \"legend\": null}, \"x\": {\"type\": \"quantitative\", \"axis\": {\"domain\": false, \"format\": \"+20\", \"grid\": true, \"labelFont\": \"Lato\", \"labelFontSize\": 13, \"labelFontWeight\": \"bold\", \"offset\": 10, \"orient\": \"top\", \"ticks\": false, \"values\": [-3, -2, -1, 0]}, \"field\": \"intentions\", \"scale\": {\"domain\": [-4, 1]}, \"title\": null}, \"y\": {\"type\": \"nominal\", \"axis\": {\"domain\": false, \"grid\": false, \"labelFont\": \"Lato\", \"labelFontSize\": 12, \"ticks\": false}, \"field\": \"index\", \"sort\": null, \"title\": null}}, \"title\": {\"text\": \"@pollsposition\", \"anchor\": \"end\", \"baseline\": \"bottom\", \"color\": \"darkgray\", \"dy\": 30, \"font\": \"Lato\", \"fontSize\": 15, \"fontWeight\": \"bold\", \"orient\": \"bottom\", \"subtitle\": \"Ipsos-Sopra Steria pour franceinfo, Le Parisien et Aujourd'hui en France (06/09/2021)\", \"subtitleColor\": \"lightgray\"}}], \"background\": \"#ffffff\", \"data\": {\"url\": \"http://localhost:21273/414c3bd90982c5b27699b2d4c8a97ce8.json\"}, \"title\": {\"text\": \"Hypoth\\u00e8se Bertrand: impact de la candidature d'Eric Zemmour\", \"dy\": -30, \"font\": \"Lato\", \"fontSize\": 17, \"subtitle\": \"Sur les intentions de votes des candidats. En points de pourcentage\", \"subtitleFontStyle\": \"italic\"}, \"$schema\": \"https://vega.github.io/schema/vega-lite/v4.8.1.json\"}, {\"mode\": \"vega-lite\"});\n",
       "</script>"
      ],
      "text/plain": [
       "alt.ConcatChart(...)"
      ]
     },
     "execution_count": 15,
     "metadata": {},
     "output_type": "execute_result"
    }
   ],
   "source": [
    "comparison = comparisonplot(\n",
    "    sondage['premier_tour']['bertrand']['intentions'],\n",
    "    sondage['premier_tour']['bertrand_zemmour']['intentions'],\n",
    "    title=\"Hypothèse Bertrand: impact de la candidature d'Eric Zemmour\",\n",
    "    subtitle=\"Sur les intentions de votes des candidats. En points de pourcentage\",\n",
    "    source=source,\n",
    ")\n",
    "comparison.save(f\"impact_zemmour_bertrand_{SONDAGE}.png\", scalefactor=5)\n",
    "comparison"
   ]
  },
  {
   "cell_type": "code",
   "execution_count": 16,
   "id": "17464aea",
   "metadata": {},
   "outputs": [
    {
     "data": {
      "text/html": [
       "\n",
       "<div id=\"altair-viz-975436f287a347b3af687507390cc6fc\"></div>\n",
       "<script type=\"text/javascript\">\n",
       "  (function(spec, embedOpt){\n",
       "    let outputDiv = document.currentScript.previousElementSibling;\n",
       "    if (outputDiv.id !== \"altair-viz-975436f287a347b3af687507390cc6fc\") {\n",
       "      outputDiv = document.getElementById(\"altair-viz-975436f287a347b3af687507390cc6fc\");\n",
       "    }\n",
       "    const paths = {\n",
       "      \"vega\": \"https://cdn.jsdelivr.net/npm//vega@5?noext\",\n",
       "      \"vega-lib\": \"https://cdn.jsdelivr.net/npm//vega-lib?noext\",\n",
       "      \"vega-lite\": \"https://cdn.jsdelivr.net/npm//vega-lite@4.8.1?noext\",\n",
       "      \"vega-embed\": \"https://cdn.jsdelivr.net/npm//vega-embed@6?noext\",\n",
       "    };\n",
       "\n",
       "    function loadScript(lib) {\n",
       "      return new Promise(function(resolve, reject) {\n",
       "        var s = document.createElement('script');\n",
       "        s.src = paths[lib];\n",
       "        s.async = true;\n",
       "        s.onload = () => resolve(paths[lib]);\n",
       "        s.onerror = () => reject(`Error loading script: ${paths[lib]}`);\n",
       "        document.getElementsByTagName(\"head\")[0].appendChild(s);\n",
       "      });\n",
       "    }\n",
       "\n",
       "    function showError(err) {\n",
       "      outputDiv.innerHTML = `<div class=\"error\" style=\"color:red;\">${err}</div>`;\n",
       "      throw err;\n",
       "    }\n",
       "\n",
       "    function displayChart(vegaEmbed) {\n",
       "      vegaEmbed(outputDiv, spec, embedOpt)\n",
       "        .catch(err => showError(`Javascript Error: ${err.message}<br>This usually means there's a typo in your chart specification. See the javascript console for the full traceback.`));\n",
       "    }\n",
       "\n",
       "    if(typeof define === \"function\" && define.amd) {\n",
       "      requirejs.config({paths});\n",
       "      require([\"vega-embed\"], displayChart, err => showError(`Error loading script: ${err.message}`));\n",
       "    } else if (typeof vegaEmbed === \"function\") {\n",
       "      displayChart(vegaEmbed);\n",
       "    } else {\n",
       "      loadScript(\"vega\")\n",
       "        .then(() => loadScript(\"vega-lite\"))\n",
       "        .then(() => loadScript(\"vega-embed\"))\n",
       "        .catch(showError)\n",
       "        .then(() => displayChart(vegaEmbed));\n",
       "    }\n",
       "  })({\"config\": {\"view\": {\"continuousWidth\": 400, \"continuousHeight\": 300, \"strokeWidth\": 0}}, \"concat\": [{\"mark\": {\"type\": \"circle\", \"size\": 130}, \"encoding\": {\"color\": {\"type\": \"nominal\", \"field\": \"index\", \"legend\": null}, \"x\": {\"type\": \"quantitative\", \"axis\": {\"domain\": false, \"format\": \"+20\", \"grid\": true, \"labelFont\": \"Lato\", \"labelFontSize\": 13, \"labelFontWeight\": \"bold\", \"offset\": 10, \"orient\": \"top\", \"ticks\": false, \"values\": [-3, -2, -1, 0, 1]}, \"field\": \"intentions\", \"scale\": {\"domain\": [-4, 2]}, \"title\": null}, \"y\": {\"type\": \"nominal\", \"axis\": {\"domain\": false, \"grid\": false, \"labelFont\": \"Lato\", \"labelFontSize\": 12, \"ticks\": false}, \"field\": \"index\", \"sort\": null, \"title\": null}}, \"title\": {\"text\": \"@pollsposition\", \"anchor\": \"end\", \"baseline\": \"bottom\", \"color\": \"darkgray\", \"dy\": 30, \"font\": \"Lato\", \"fontSize\": 15, \"fontWeight\": \"bold\", \"orient\": \"bottom\", \"subtitle\": \"Ipsos-Sopra Steria pour franceinfo, Le Parisien et Aujourd'hui en France (06/09/2021)\", \"subtitleColor\": \"lightgray\"}}], \"background\": \"#ffffff\", \"data\": {\"url\": \"http://localhost:21273/5a6ff843415cd6d381456a580d139089.json\"}, \"title\": {\"text\": \"Hypoth\\u00e8se P\\u00e9cresse: impact de la candidature d'Eric Zemmour\", \"dy\": -30, \"font\": \"Lato\", \"fontSize\": 17, \"subtitle\": \"Sur les intentions de votes des candidats. En points de pourcentage\", \"subtitleFontStyle\": \"italic\"}, \"$schema\": \"https://vega.github.io/schema/vega-lite/v4.8.1.json\"}, {\"mode\": \"vega-lite\"});\n",
       "</script>"
      ],
      "text/plain": [
       "alt.ConcatChart(...)"
      ]
     },
     "execution_count": 16,
     "metadata": {},
     "output_type": "execute_result"
    }
   ],
   "source": [
    "comparison = comparisonplot(\n",
    "    sondage['premier_tour']['pecresse']['intentions'],\n",
    "    sondage['premier_tour']['pecresse_zemmour']['intentions'],\n",
    "    title=\"Hypothèse Pécresse: impact de la candidature d'Eric Zemmour\",\n",
    "    subtitle=\"Sur les intentions de votes des candidats. En points de pourcentage\",\n",
    "    source=source,\n",
    ")\n",
    "comparison.save(f\"impact_zemmour_pecresse_{SONDAGE}.png\", scalefactor=5)\n",
    "comparison"
   ]
  },
  {
   "cell_type": "code",
   "execution_count": 17,
   "id": "295725da",
   "metadata": {},
   "outputs": [
    {
     "data": {
      "text/html": [
       "\n",
       "<div id=\"altair-viz-ded56a8621c84a70a9882a90bd251bdf\"></div>\n",
       "<script type=\"text/javascript\">\n",
       "  (function(spec, embedOpt){\n",
       "    let outputDiv = document.currentScript.previousElementSibling;\n",
       "    if (outputDiv.id !== \"altair-viz-ded56a8621c84a70a9882a90bd251bdf\") {\n",
       "      outputDiv = document.getElementById(\"altair-viz-ded56a8621c84a70a9882a90bd251bdf\");\n",
       "    }\n",
       "    const paths = {\n",
       "      \"vega\": \"https://cdn.jsdelivr.net/npm//vega@5?noext\",\n",
       "      \"vega-lib\": \"https://cdn.jsdelivr.net/npm//vega-lib?noext\",\n",
       "      \"vega-lite\": \"https://cdn.jsdelivr.net/npm//vega-lite@4.8.1?noext\",\n",
       "      \"vega-embed\": \"https://cdn.jsdelivr.net/npm//vega-embed@6?noext\",\n",
       "    };\n",
       "\n",
       "    function loadScript(lib) {\n",
       "      return new Promise(function(resolve, reject) {\n",
       "        var s = document.createElement('script');\n",
       "        s.src = paths[lib];\n",
       "        s.async = true;\n",
       "        s.onload = () => resolve(paths[lib]);\n",
       "        s.onerror = () => reject(`Error loading script: ${paths[lib]}`);\n",
       "        document.getElementsByTagName(\"head\")[0].appendChild(s);\n",
       "      });\n",
       "    }\n",
       "\n",
       "    function showError(err) {\n",
       "      outputDiv.innerHTML = `<div class=\"error\" style=\"color:red;\">${err}</div>`;\n",
       "      throw err;\n",
       "    }\n",
       "\n",
       "    function displayChart(vegaEmbed) {\n",
       "      vegaEmbed(outputDiv, spec, embedOpt)\n",
       "        .catch(err => showError(`Javascript Error: ${err.message}<br>This usually means there's a typo in your chart specification. See the javascript console for the full traceback.`));\n",
       "    }\n",
       "\n",
       "    if(typeof define === \"function\" && define.amd) {\n",
       "      requirejs.config({paths});\n",
       "      require([\"vega-embed\"], displayChart, err => showError(`Error loading script: ${err.message}`));\n",
       "    } else if (typeof vegaEmbed === \"function\") {\n",
       "      displayChart(vegaEmbed);\n",
       "    } else {\n",
       "      loadScript(\"vega\")\n",
       "        .then(() => loadScript(\"vega-lite\"))\n",
       "        .then(() => loadScript(\"vega-embed\"))\n",
       "        .catch(showError)\n",
       "        .then(() => displayChart(vegaEmbed));\n",
       "    }\n",
       "  })({\"config\": {\"view\": {\"continuousWidth\": 400, \"continuousHeight\": 300, \"strokeWidth\": 0}}, \"concat\": [{\"mark\": {\"type\": \"circle\", \"size\": 130}, \"encoding\": {\"color\": {\"type\": \"nominal\", \"field\": \"index\", \"legend\": null}, \"x\": {\"type\": \"quantitative\", \"axis\": {\"domain\": false, \"format\": \"+20\", \"grid\": true, \"labelFont\": \"Lato\", \"labelFontSize\": 13, \"labelFontWeight\": \"bold\", \"offset\": 10, \"orient\": \"top\", \"ticks\": false, \"values\": [-3, -2, -1, 0, 1]}, \"field\": \"intentions\", \"scale\": {\"domain\": [-4, 2]}, \"title\": null}, \"y\": {\"type\": \"nominal\", \"axis\": {\"domain\": false, \"grid\": false, \"labelFont\": \"Lato\", \"labelFontSize\": 12, \"ticks\": false}, \"field\": \"index\", \"sort\": null, \"title\": null}}, \"title\": {\"text\": \"@pollsposition\", \"anchor\": \"end\", \"baseline\": \"bottom\", \"color\": \"darkgray\", \"dy\": 30, \"font\": \"Lato\", \"fontSize\": 15, \"fontWeight\": \"bold\", \"orient\": \"bottom\", \"subtitle\": \"Ipsos-Sopra Steria pour franceinfo, Le Parisien et Aujourd'hui en France (06/09/2021)\", \"subtitleColor\": \"lightgray\"}}], \"background\": \"#ffffff\", \"data\": {\"url\": \"http://localhost:21273/8408db8960e4b048cfb04c3b7e8d05ac.json\"}, \"title\": {\"text\": \"Hypoth\\u00e8se Barnier: impact de la candidature d'Eric Zemmour\", \"dy\": -30, \"font\": \"Lato\", \"fontSize\": 17, \"subtitle\": \"Sur les intentions de votes des candidats. En points de pourcentage\", \"subtitleFontStyle\": \"italic\"}, \"$schema\": \"https://vega.github.io/schema/vega-lite/v4.8.1.json\"}, {\"mode\": \"vega-lite\"});\n",
       "</script>"
      ],
      "text/plain": [
       "alt.ConcatChart(...)"
      ]
     },
     "execution_count": 17,
     "metadata": {},
     "output_type": "execute_result"
    }
   ],
   "source": [
    "comparison = comparisonplot(\n",
    "    sondage['premier_tour']['barnier']['intentions'],\n",
    "    sondage['premier_tour']['barnier_zemmour']['intentions'],\n",
    "    title=\"Hypothèse Barnier: impact de la candidature d'Eric Zemmour\",\n",
    "    subtitle=\"Sur les intentions de votes des candidats. En points de pourcentage\",\n",
    "    source=source,\n",
    ")\n",
    "comparison.save(f\"impact_zemmour_barnier_{SONDAGE}.png\", scalefactor=5)\n",
    "comparison"
   ]
  }
 ],
 "metadata": {
  "kernelspec": {
   "display_name": "2022",
   "language": "python",
   "name": "2022"
  },
  "language_info": {
   "codemirror_mode": {
    "name": "ipython",
    "version": 3
   },
   "file_extension": ".py",
   "mimetype": "text/x-python",
   "name": "python",
   "nbconvert_exporter": "python",
   "pygments_lexer": "ipython3",
   "version": "3.9.5"
  }
 },
 "nbformat": 4,
 "nbformat_minor": 5
}
